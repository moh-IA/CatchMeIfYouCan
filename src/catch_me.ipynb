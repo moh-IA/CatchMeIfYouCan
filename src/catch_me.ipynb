{
 "metadata": {
  "language_info": {
   "codemirror_mode": {
    "name": "ipython",
    "version": 3
   },
   "file_extension": ".py",
   "mimetype": "text/x-python",
   "name": "python",
   "nbconvert_exporter": "python",
   "pygments_lexer": "ipython3",
   "version": "3.8.5-final"
  },
  "orig_nbformat": 2,
  "kernelspec": {
   "name": "python3",
   "display_name": "Python 3.8.5 64-bit ('deeplearning': conda)",
   "metadata": {
    "interpreter": {
     "hash": "658ab8ee377f2a571d387b46197b8e840a005dba9ab325148b13bd7f9c3101a9"
    }
   }
  }
 },
 "nbformat": 4,
 "nbformat_minor": 2,
 "cells": [
  {
   "cell_type": "code",
   "execution_count": 1,
   "metadata": {},
   "outputs": [],
   "source": [
    "import pandas as pd \n",
    "import numpy as np\n",
    "import matplotlib.pyplot as plt \n",
    "import seaborn as sns \n",
    "import os \n",
    "import glob as gb \n",
    "import cv2\n",
    "import tensorflow as tf\n",
    "import keras\n",
    "import pickle \n",
    "from object_localisation import Localization \n"
   ]
  },
  {
   "cell_type": "code",
   "execution_count": 2,
   "metadata": {},
   "outputs": [],
   "source": [
    "\n",
    "# train_path = \"../data/train/\"\n",
    "# test_path = \"../data/test/\"\n",
    "weights_path = \"../yolo/yolov3.weights\" \n",
    "conf_path = \"../yolo/yolov3.cfg\" \n",
    "\n",
    "\n"
   ]
  },
  {
   "cell_type": "code",
   "execution_count": null,
   "metadata": {},
   "outputs": [],
   "source": [
    "# Exploit training dataset \n",
    "number_of_img = 0\n",
    "for folder in os.listdir(train_path):\n",
    "    files = gb.glob(pathname = train_path + folder + \"//*.png\")\n",
    "    number_of_img += len(files)\n",
    "    print(f\"For training data, found {len(files)} in folder {folder}\")\n",
    "print(f\"Total of training data : {number_of_img} images\" )"
   ]
  },
  {
   "cell_type": "code",
   "execution_count": null,
   "metadata": {},
   "outputs": [],
   "source": [
    "# Exploit testing  dataset\n",
    "number_of_img = 0 \n",
    "for folder in os.listdir(test_path):\n",
    "    files = gb.glob(pathname = test_path + folder + \"//*.png\")\n",
    "    number_of_img += len(files)\n",
    "    print(f\"For testing data, found {len(files)} in folder {folder}\")\n",
    "print(f\"Total of testing data : {number_of_img} images\" )"
   ]
  },
  {
   "cell_type": "code",
   "execution_count": null,
   "metadata": {},
   "outputs": [],
   "source": [
    "# Create a dictionary  with classes and indices\n",
    "classes = {}\n",
    "indice = 0\n",
    "for folder in os.listdir(train_path):\n",
    "    classes[folder] = indice\n",
    "    indice += 1\n",
    "# create function to get classe\n",
    "def get_classe(n):\n",
    "    for classe , value in classes.items():\n",
    "        if n == value:\n",
    "            return classe\n",
    "get_classe(99)"
   ]
  },
  {
   "cell_type": "code",
   "execution_count": null,
   "metadata": {},
   "outputs": [],
   "source": [
    "# Read images from training data and convert it into list of array\n",
    "x_train = []\n",
    "y_train = []\n",
    "for folder in os.listdir(train_path):\n",
    "    images = gb.glob(pathname = train_path + folder + \"//*.png\")\n",
    "    for image in images:\n",
    "        img = cv2.imread(image)\n",
    "        x_train.append(img)\n",
    "        y_train.append(classes[folder])"
   ]
  },
  {
   "cell_type": "code",
   "execution_count": null,
   "metadata": {},
   "outputs": [],
   "source": [
    "print(f\"We have {len(x_train)} items in x_train\")\n",
    "\n"
   ]
  },
  {
   "cell_type": "code",
   "execution_count": null,
   "metadata": {},
   "outputs": [],
   "source": [
    "# display random images (36 images) from x_train\n",
    "plt.figure(figsize =(20,20))\n",
    "for n, i in enumerate(list(np.random.randint(0, len(x_train), 36))):\n",
    "    plt.subplot(6,6, n+1)\n",
    "    plt.imshow(x_train[i])\n",
    "    plt.axis(\"off\")\n",
    "    plt.title(get_classe(y_train[i]))"
   ]
  },
  {
   "cell_type": "code",
   "execution_count": null,
   "metadata": {},
   "outputs": [],
   "source": [
    "# Read images from training data and convert it into list of array\n",
    "x_test = []\n",
    "y_test = []\n",
    "for folder in os.listdir(test_path):\n",
    "    images = gb.glob(pathname = test_path + folder + \"//*.png\")\n",
    "    for image in images:\n",
    "        img = cv2.imread(image)\n",
    "        x_test.append(img)\n",
    "        y_test.append(classes[folder])"
   ]
  },
  {
   "cell_type": "code",
   "execution_count": null,
   "metadata": {},
   "outputs": [],
   "source": [
    "print(f\"We have {len(x_test)} items in x_train\")"
   ]
  },
  {
   "cell_type": "code",
   "execution_count": null,
   "metadata": {},
   "outputs": [],
   "source": [
    "# display random images (36 images) from x_test\n",
    "plt.figure(figsize =(20,20))\n",
    "for n, i in enumerate(list(np.random.randint(0, len(x_test), 36))):\n",
    "    plt.subplot(6,6, n+1)\n",
    "    plt.imshow(x_test[i])\n",
    "    plt.axis(\"off\")\n",
    "    plt.title(get_classe(y_test[i]))"
   ]
  },
  {
   "cell_type": "code",
   "execution_count": null,
   "metadata": {},
   "outputs": [],
   "source": [
    "# Convert  data to nmpy array\n",
    "x_train = np.array(x_train)\n",
    "x_test= np.array(x_test)\n",
    "y_train = np.array(y_train)\n",
    "y_test = np.array(y_test)\n",
    "\n",
    "print(f'x_train shape is {x_train.shape}')\n",
    "print(f'x_test shape is {x_test.shape}')\n",
    "print(f'y_train shape is {y_train.shape}')\n",
    "print(f'y_test shape is {y_test.shape}')"
   ]
  },
  {
   "cell_type": "code",
   "execution_count": null,
   "metadata": {},
   "outputs": [],
   "source": [
    "x_train = x_train.astype('float32')\n",
    "x_test = x_test.astype('float32')"
   ]
  },
  {
   "cell_type": "code",
   "execution_count": null,
   "metadata": {},
   "outputs": [],
   "source": [
    "x_train_255 = x_train/255.0\n",
    "x_test_255 = x_test/255.0\n",
    "# x_train_255[0]"
   ]
  },
  {
   "cell_type": "code",
   "execution_count": null,
   "metadata": {},
   "outputs": [],
   "source": [
    "# Building the CNN model using Keras\n",
    "\n",
    "cnn_model = keras.models.Sequential([\n",
    "        keras.layers.Conv2D(filters = 32, kernel_size = (5,5),padding = 'Same', activation ='relu', input_shape = (32,32,3)),\n",
    "        keras.layers.Conv2D(filters = 32, kernel_size = (5,5),padding = 'Same', activation ='relu'),\n",
    "        keras.layers.MaxPool2D(pool_size=(2,2)),\n",
    "        keras.layers.Dropout(rate=0.25),\n",
    "\n",
    "        keras.layers.Conv2D(filters = 64, kernel_size = (3,3),padding = 'Same', activation ='relu'),    \n",
    "        keras.layers.Conv2D(filters = 64, kernel_size = (3,3),padding = 'Same', activation ='relu'),    \n",
    "        keras.layers.MaxPool2D(pool_size=(2,2), strides=(2,2)),\n",
    "        keras.layers.Dropout(rate=0.25),\n",
    "\n",
    "        keras.layers.Flatten() ,    \n",
    "        keras.layers.Dense(256, activation = \"relu\") ,   \n",
    "        keras.layers.Dropout(rate=0.5), \n",
    "               \n",
    "                   \n",
    "        keras.layers.Dense(100,activation='softmax')    \n",
    "        ])"
   ]
  },
  {
   "cell_type": "code",
   "execution_count": null,
   "metadata": {},
   "outputs": [],
   "source": [
    "cnn_model_1 = keras.models.Sequential([\n",
    "        keras.layers.Conv2D(filters=32,kernel_size=3, padding=\"same\", activation=\"relu\", input_shape=(32,32,3)),\n",
    "        keras.layers.Conv2D(filters=32,kernel_size=3,padding=\"same\", activation=\"relu\"),\n",
    "\n",
    "        keras.layers.MaxPool2D(pool_size=2,strides=2,padding='valid'),\n",
    "\n",
    "        keras.layers.Conv2D(filters=64,kernel_size=3,padding=\"same\", activation=\"relu\"),\n",
    "        keras.layers.Conv2D(filters=64,kernel_size=3,padding=\"same\", activation=\"relu\"),\n",
    "\n",
    "        keras.layers.MaxPool2D(pool_size=2,strides=2,padding='valid'),\n",
    "\n",
    "        keras.layers.Flatten(),\n",
    "\n",
    "        keras.layers.Dropout(0.5,noise_shape=None,seed=None),\n",
    "\n",
    "        keras.layers.Dense(128,activation='relu'),\n",
    "               \n",
    "                   \n",
    "        keras.layers.Dense(100,activation='softmax')    \n",
    "        ])"
   ]
  },
  {
   "cell_type": "code",
   "execution_count": null,
   "metadata": {},
   "outputs": [],
   "source": [
    "cnn_model_2 = keras.models.Sequential([\n",
    "        keras.layers.Conv2D(32, kernel_size=(3, 3), activation='relu', input_shape=(32,32,3)),\n",
    "        \n",
    "\n",
    "        keras.layers.MaxPool2D(pool_size=(2, 2)),\n",
    "\n",
    "        keras.layers.Conv2D(filters=64,kernel_size=3,padding=\"same\", activation=\"relu\"),\n",
    "        \n",
    "\n",
    "        keras.layers.MaxPool2D(pool_size=(2, 2)),\n",
    "\n",
    "        keras.layers.Conv2D(128, kernel_size=(3, 3), activation='relu'),\n",
    "\n",
    "        keras.layers.MaxPool2D(pool_size=(2, 2)),\n",
    "\n",
    "        keras.layers.Flatten(),\n",
    "\n",
    "       \n",
    "\n",
    "        keras.layers.Dense(256, activation='relu'),\n",
    "        keras.layers.Dense(128, activation='relu'),\n",
    "               \n",
    "                   \n",
    "        keras.layers.Dense(100,activation='softmax')    \n",
    "        ])"
   ]
  },
  {
   "cell_type": "code",
   "execution_count": null,
   "metadata": {},
   "outputs": [],
   "source": [
    "# Complie the model\n",
    "# cnn_model.compile(optimizer =\"adam\", loss=\"sparse_categorical_crossentropy\", metrics =['accuracy'])\n",
    "cnn_model_2 .compile(optimizer =\"Adam\", loss=\"sparse_categorical_crossentropy\", metrics =\"sparse_categorical_accuracy\")"
   ]
  },
  {
   "cell_type": "code",
   "execution_count": null,
   "metadata": {},
   "outputs": [],
   "source": [
    "print(cnn_model_2 .summary())"
   ]
  },
  {
   "cell_type": "code",
   "execution_count": null,
   "metadata": {},
   "outputs": [],
   "source": [
    "epochs = 2\n",
    "model = cnn_model_2.fit(x_train_255, y_train, epochs =epochs, )"
   ]
  },
  {
   "cell_type": "code",
   "execution_count": null,
   "metadata": {},
   "outputs": [],
   "source": [
    "cnn_model_2.save(\"../model/model_v2.model\")"
   ]
  },
  {
   "cell_type": "code",
   "execution_count": null,
   "metadata": {},
   "outputs": [],
   "source": [
    "model_loss, model_accuracy = cnn_model_2.evaluate(x_test_255, y_test)\n",
    "\n",
    "print('Test Loss is {}'.format(model_loss))\n",
    "print('Test Accuracy is {}'.format(model_accuracy))"
   ]
  },
  {
   "cell_type": "code",
   "execution_count": 3,
   "metadata": {},
   "outputs": [],
   "source": [
    "\n",
    "import keras2onnx\n",
    "import onnx\n",
    "\n",
    "\n",
    "test_cnn_model_2 = keras.models.load_model(\"../model/model_test_6.h5\")\n",
    "# print(type(test_cnn_model_2))\n",
    "\n",
    "\n",
    "\n",
    "#covert to onxx model\n",
    "# onnx_model_name = '../model_onnx/cnn_model.onnx'\n",
    "\n",
    "# onnx_model = keras2onnx.convert_keras(test_cnn_model_2, test_cnn_model_2.name)\n",
    "\n",
    "# onnx.save_model(onnx_model,onnx_model_name )\n",
    "\n"
   ]
  },
  {
   "cell_type": "code",
   "execution_count": 11,
   "metadata": {},
   "outputs": [],
   "source": [
    "# Testing mode\n",
    "image_test_path = (\"../data/predict/crocodile.png\")\n",
    "Localization().object_detection(test_cnn_model_2, image_test_path, weights_path, conf_path)\n"
   ]
  },
  {
   "cell_type": "code",
   "execution_count": null,
   "metadata": {},
   "outputs": [],
   "source": []
  }
 ]
}